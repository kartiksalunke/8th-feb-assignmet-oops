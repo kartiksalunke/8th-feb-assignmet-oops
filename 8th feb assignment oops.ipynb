{
 "cells": [
  {
   "cell_type": "markdown",
   "id": "a6ad6528-b67a-4018-a7c9-827aee7d84ac",
   "metadata": {},
   "source": [
    "Q.1 "
   ]
  },
  {
   "cell_type": "markdown",
   "id": "d54b7513-4ecb-4774-a5ae-02d7920f0258",
   "metadata": {},
   "source": [
    "Abstraction in python is defined as a process of handling complexity by hiding unnecessary information from the user. This is one of the core concepts of object-oriented programming (OOP) languages. That enables the user to implement even more complex logic on top of the provided abstraction without understanding or even thinking about all the hidden background/back-end complexity."
   ]
  },
  {
   "cell_type": "code",
   "execution_count": 1,
   "id": "98ee31d7-36a7-4028-8e54-718521df3f12",
   "metadata": {},
   "outputs": [],
   "source": [
    "#example\n",
    "from abc import ABC , abstractmethod\n",
    "class car(ABC):\n",
    "    def mileage(self):\n",
    "        pass"
   ]
  },
  {
   "cell_type": "code",
   "execution_count": 2,
   "id": "89c97f7d-e61f-4752-9f3e-af8e69f75c3b",
   "metadata": {},
   "outputs": [],
   "source": [
    "class tesla(car):\n",
    "    def mileage(self):\n",
    "        print(\"the mileage is 30kmph\")\n",
    "class suzuki(car):\n",
    "    def mileage(self):\n",
    "        print(\"the mileage is 25kmph\")\n",
    "class duster(car):\n",
    "    def mileage(self):\n",
    "        print(\"the mileage is 24 kmph\")\n",
    "class renault(car):\n",
    "    def mileage(self):\n",
    "        print(\"the mileage is 27kmph\")"
   ]
  },
  {
   "cell_type": "code",
   "execution_count": 3,
   "id": "06b9f1b2-affd-481d-b4fa-92c3e2b8bb63",
   "metadata": {},
   "outputs": [
    {
     "name": "stdout",
     "output_type": "stream",
     "text": [
      "the mileage is 30kmph\n",
      "the mileage is 27kmph\n",
      "the mileage is 25kmph\n",
      "the mileage is 24 kmph\n"
     ]
    }
   ],
   "source": [
    "#driver code\n",
    "\n",
    "t = tesla()\n",
    "t.mileage()\n",
    "\n",
    "r = renault()\n",
    "r.mileage()\n",
    "\n",
    "s = suzuki()\n",
    "s.mileage()\n",
    "\n",
    "d = duster()\n",
    "d.mileage()\n"
   ]
  },
  {
   "cell_type": "markdown",
   "id": "cd2a60ce-5f27-4d99-b213-24cf3dfbbc23",
   "metadata": {},
   "source": [
    "Q.2"
   ]
  },
  {
   "cell_type": "markdown",
   "id": "1b224400-18dc-4106-8e6d-90aa99a24453",
   "metadata": {},
   "source": [
    "Abstraction is the process or method of gaining the information. While encapsulation is the process or method to contain the information. In abstraction, problems are solved at the design or interface level. While in encapsulation, problems are solved at the implementation level."
   ]
  },
  {
   "cell_type": "markdown",
   "id": "ae74b4d9-178b-44af-af7b-9d5ebad7732d",
   "metadata": {},
   "source": [
    "Q.3"
   ]
  },
  {
   "cell_type": "markdown",
   "id": "e7a8aad9-124e-4268-82e5-0318cfaba155",
   "metadata": {},
   "source": [
    "The abc module in Python is the Abstract Base Class module. It is used to define abstract base classes, which provide a way to define interfaces in Python. An abstract base class is a class that cannot be instantiated, but can be subclassed. The purpose of an abstract base class is to specify the interface that its subclasses must implement, without specifying how that implementation should be done.\n",
    "\n",
    "The abc module provides a way to create abstract base classes in Python by using the ABC class, as well as several decorators and methods to define abstract methods and properties."
   ]
  },
  {
   "cell_type": "markdown",
   "id": "b5aef13d-e413-4ac1-a3a3-eb68d82ff0ff",
   "metadata": {},
   "source": [
    "Q.4"
   ]
  },
  {
   "cell_type": "markdown",
   "id": "59021bb6-3eaa-4c26-93e1-193ae9589033",
   "metadata": {},
   "source": [
    "Data abstraction is a programming concept that allows you to define the interface of an object without revealing the underlying implementation details. In other words, it provides a way to separate the implementation details of an object from the way it is used by other objects.\n",
    "\n",
    "There are several ways to achieve data abstraction in programming:\n",
    "\n",
    "Abstraction through classes: One of the most common ways to achieve data abstraction is through the use of classes. In object-oriented programming, classes provide a way to define objects with certain properties and methods, but hide the underlying implementation details from the rest of the code. For example, you can define a class with public methods that expose its behavior, but keep the implementation details private.\n",
    "\n",
    "Interfaces: An interface is a collection of abstract methods that must be implemented by any class that implements the interface. Interfaces are used to define a common set of behaviors that can be implemented by different classes, without specifying the implementation details. For example, in Java, you can define an interface that specifies the methods that must be implemented by a class that implements the interface.\n",
    "\n",
    "Modules: In some programming languages, like Python, you can use modules to define a set of related functions and variables, and hide the implementation details behind a well-defined interface. Modules provide a way to encapsulate the implementation details of a set of functions, and expose them to the rest of the code through a simple API.\n",
    "\n",
    "Information hiding: Information hiding is a programming concept that involves hiding the implementation details of an object or function behind a well-defined interface. Information hiding is used to protect the internal state of an object from being modified by external code, and to provide a clear and well-defined way for other objects to interact with the object."
   ]
  },
  {
   "cell_type": "markdown",
   "id": "0d3ec003-4f0a-4f28-bb2b-d58f55cfec9a",
   "metadata": {},
   "source": [
    "Q.5"
   ]
  },
  {
   "cell_type": "markdown",
   "id": "eb30774f-e16f-49d6-a053-c52f2bb5619f",
   "metadata": {},
   "source": [
    "No, you cannot create an instance of an abstract class. An abstract class is a class that cannot be instantiated on its own, but is intended to be subclassed and have its abstract methods implemented by the subclasses. The purpose of an abstract class is to provide a common interface for a set of related classes, but not to be used as a standalone object."
   ]
  },
  {
   "cell_type": "code",
   "execution_count": null,
   "id": "fd369ff0-3843-40b8-b7f2-e164f2b4f096",
   "metadata": {},
   "outputs": [],
   "source": []
  }
 ],
 "metadata": {
  "kernelspec": {
   "display_name": "Python 3 (ipykernel)",
   "language": "python",
   "name": "python3"
  },
  "language_info": {
   "codemirror_mode": {
    "name": "ipython",
    "version": 3
   },
   "file_extension": ".py",
   "mimetype": "text/x-python",
   "name": "python",
   "nbconvert_exporter": "python",
   "pygments_lexer": "ipython3",
   "version": "3.10.8"
  }
 },
 "nbformat": 4,
 "nbformat_minor": 5
}
